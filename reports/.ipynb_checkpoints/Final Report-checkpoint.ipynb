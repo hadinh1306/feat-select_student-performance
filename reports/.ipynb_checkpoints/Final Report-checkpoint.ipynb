{
 "cells": [
  {
   "cell_type": "code",
   "execution_count": 1,
   "metadata": {
    "collapsed": true
   },
   "outputs": [],
   "source": [
    "import pandas as pd\n",
    "import numpy as np\n",
    "import matplotlib.pyplot as plt\n",
    "%matplotlib inline\n",
    "import seaborn as sns\n",
    "\n",
    "df = pd.read_csv(\"../data/cleaned_data/cleaned.csv\")"
   ]
  },
  {
   "cell_type": "markdown",
   "metadata": {},
   "source": [
    "# Project Overview"
   ]
  },
  {
   "cell_type": "markdown",
   "metadata": {},
   "source": [
    "To understand whether student performance in final grade is affected by student previous grades, demographic, social and school related information, I want to perform a linear regression model. \n",
    "\n",
    "Instead of fitting 1 linear regression with no regularization, I apply different regularized linear regression methods and compare their result to the unregularized one. These methods include Lasso (L1 regularization), Ridge (L2 regularization), Elastic Net (L1 + L2 regularization). The comparison will suggest me the best model to help answer my question above. "
   ]
  },
  {
   "cell_type": "markdown",
   "metadata": {},
   "source": [
    "# Data Description"
   ]
  },
  {
   "cell_type": "markdown",
   "metadata": {},
   "source": [
    "Data used in this project is taken from the [Student Performance Data Set](http://archive.ics.uci.edu/ml/datasets/Student+Performance). It contains student achievement in secondary education of two Portuguese schools, along with their grades, demographic, social and school related features. The data was collected by using school reports and questionnaires.\n",
    "\n",
    "The final dataset (after cleaning) has 32 features, with 382 observations in total. None of those observations has missing values. \n",
    "\n",
    "To know more details about the features, please refer to this [README](https://github.com/hadinh1306/feat-select_student-performance/tree/master/data/raw_data). \n",
    "\n",
    "To answer my question, I choose `G3` - the final grade as my response variables, and other 31 variables as my explanatory variables. \n",
    "\n",
    "Since I decide to use Scikit-learn to fit models to my data and Scikit-learn Regression Models only understand numeric data, I transform text values of all categorical variables into numeric ones. See source code for cleaning data [here](https://github.com/hadinh1306/feat-select_student-performance/blob/master/src/clean.ipynb)."
   ]
  },
  {
   "cell_type": "markdown",
   "metadata": {},
   "source": [
    "# Exploratory Data Analysis"
   ]
  },
  {
   "cell_type": "markdown",
   "metadata": {},
   "source": [
    "Since there are 31 explanatory variables, I do not plot the relationship of each variable to `G3`. Instead, I choose some selective variables that intuitively make sense to have effects on my response variable."
   ]
  },
  {
   "cell_type": "markdown",
   "metadata": {},
   "source": [
    "**Effect of first and second period grades on final grade**\n",
    "\n",
    "First of all, I believe that previous scores may have effect on the final score. Below is the pair plot to visualize effects first period and second period grades have on final grade.\n",
    "\n",
    "From this graph, I can infer that students with consistently high grade in previous 2 tests would get high score in final test also. \n",
    "\n",
    "![](../graphs/grades_pairplot.png)"
   ]
  },
  {
   "cell_type": "markdown",
   "metadata": {},
   "source": [
    "**Effect of gender on final grade**\n",
    "\n",
    "Secondly, I visualize difference in final grade between male and female students. \n",
    "\n",
    "Where I come from - Vietnam, people believe that female students are more hard working than male thus might have higher score, but at certain age or in certain fields male starts to have higher score in exams. The graph below shows that male students from the two Portugese schools score slightly higher in their final compared to their female counterparts. \n",
    "\n",
    "Through my feature and model selection process, I will find out if gender difference actually has any relation to final grade. \n",
    "\n",
    "![](../graphs/gender_grade.png)"
   ]
  },
  {
   "cell_type": "markdown",
   "metadata": {},
   "source": [
    "**Effect of weekly study time on final grade**\n",
    "\n",
    "Intuitively speeking, students who spend more time in studying would score higher in their tests. It is true in this case, proven by the graph below. \n",
    "\n",
    "Interestingly, students who spend less than 2 hours and students who spend from 2 to 5 hours studying per week has very minimal difference in final grade. Average grades of those who spend 5 to 10 hours increase by 1 to 2 points. However, spending more than 10 hours studying per week only helps final grade to increase by around 0.5 points. \n",
    "\n",
    "![](../graphs/studytime_grade.png)"
   ]
  },
  {
   "cell_type": "markdown",
   "metadata": {},
   "source": [
    "**Effect of decision to go to higher education on final grade**"
   ]
  },
  {
   "cell_type": "markdown",
   "metadata": {},
   "source": [
    "Intuitively, students with intention to go to higher education would grade higher those who have no intention. This is proven through the below graph. Students with intention for higher education has average final grade around 2.5 points higher than those with no intention. \n",
    "\n",
    "![](../graphs/higheredu_grade.png)"
   ]
  },
  {
   "cell_type": "markdown",
   "metadata": {},
   "source": [
    "# Feature and Model Selection"
   ]
  },
  {
   "cell_type": "code",
   "execution_count": null,
   "metadata": {
    "collapsed": true
   },
   "outputs": [],
   "source": []
  }
 ],
 "metadata": {
  "kernelspec": {
   "display_name": "Python 3",
   "language": "python",
   "name": "python3"
  },
  "language_info": {
   "codemirror_mode": {
    "name": "ipython",
    "version": 3
   },
   "file_extension": ".py",
   "mimetype": "text/x-python",
   "name": "python",
   "nbconvert_exporter": "python",
   "pygments_lexer": "ipython3",
   "version": "3.6.3"
  }
 },
 "nbformat": 4,
 "nbformat_minor": 2
}
