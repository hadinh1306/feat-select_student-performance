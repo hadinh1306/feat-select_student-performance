{
 "cells": [
  {
   "cell_type": "markdown",
   "metadata": {},
   "source": [
    "# Project Overview"
   ]
  },
  {
   "cell_type": "markdown",
   "metadata": {},
   "source": [
    "To understand whether student performance in final grade is affected by student previous grades, demographic, social and school related information, I want to perform a linear regression model. \n",
    "\n",
    "Instead of fitting 1 linear regression with no regularization, I apply different regularized linear regression methods and compare their result to the unregularized one. These methods include Lasso (L1 regularization), Ridge (L2 regularization), Elastic Net (L1 + L2 regularization). The comparison will suggest me the best model to help answer my question above. "
   ]
  },
  {
   "cell_type": "markdown",
   "metadata": {},
   "source": [
    "# Data Description"
   ]
  },
  {
   "cell_type": "markdown",
   "metadata": {},
   "source": [
    "Data used in this project is taken from the [Student Performance Data Set](http://archive.ics.uci.edu/ml/datasets/Student+Performance). It contains student achievement in secondary education of two Portuguese schools, along with their grades, demographic, social and school related features. The data was collected by using school reports and questionnaires.\n",
    "\n",
    "The final dataset (after cleaning) has 32 features, with 382 observations in total. None of those observations has missing values. \n",
    "\n",
    "To know more details about the features, please refer to this [README](https://github.com/hadinh1306/feat-select_student-performance/tree/master/data/raw_data). \n",
    "\n",
    "To answer my question, I choose `G3` - the final grade as my response variables, and other 31 variables as my explanatory variables. \n",
    "\n",
    "Since I decide to use Scikit-learn to fit models to my data and Scikit-learn Regression Models only understand numeric data, I transform text values of all categorical variables into numeric ones. See source code for cleaning data [here](https://github.com/hadinh1306/feat-select_student-performance/blob/master/src/clean.ipynb)."
   ]
  },
  {
   "cell_type": "markdown",
   "metadata": {},
   "source": [
    "# Exploratory Data Analysis"
   ]
  },
  {
   "cell_type": "markdown",
   "metadata": {},
   "source": [
    "Since there are 31 explanatory variables, I do not plot the relationship of each variable to `G3`. Instead, I choose some selective variables that intuitively make sense to have effects on my response variable."
   ]
  },
  {
   "cell_type": "markdown",
   "metadata": {},
   "source": [
    "**Effect of first and second period grades on final grade**\n",
    "\n",
    "First of all, I believe that previous scores may have effect on the final score. Below is the pair plot to visualize effects first period and second period grades have on final grade.\n",
    "\n",
    "From this graph, I can infer that students with consistently high grade in previous 2 tests would get high score in final test also. \n",
    "\n",
    "![](../graphs/grades_pairplot.png)"
   ]
  },
  {
   "cell_type": "markdown",
   "metadata": {},
   "source": [
    "**Effect of gender on final grade**\n",
    "\n",
    "Secondly, I visualize difference in final grade between male and female students. \n",
    "\n",
    "Where I come from - Vietnam, people believe that female students are more hard working than male thus might have higher score, but at certain age or in certain fields male starts to have higher score in exams. The graph below shows that male students from the two Portugese schools score slightly higher in their final compared to their female counterparts. \n",
    "\n",
    "Through my feature and model selection process, I will find out if gender difference actually has any relation to final grade. \n",
    "\n",
    "![](../graphs/gender_grade.png)"
   ]
  },
  {
   "cell_type": "markdown",
   "metadata": {},
   "source": [
    "**Effect of weekly study time on final grade**\n",
    "\n",
    "Intuitively speeking, students who spend more time in studying would score higher in their tests. It is true in this case, proven by the graph below. \n",
    "\n",
    "Interestingly, students who spend less than 2 hours and students who spend from 2 to 5 hours studying per week has very minimal difference in final grade. Average grades of those who spend 5 to 10 hours increase by 1 to 2 points. However, spending more than 10 hours studying per week only helps final grade to increase by around 0.5 points. \n",
    "\n",
    "![](../graphs/studytime_grade.png)"
   ]
  },
  {
   "cell_type": "markdown",
   "metadata": {},
   "source": [
    "**Effect of decision to go to higher education on final grade**"
   ]
  },
  {
   "cell_type": "markdown",
   "metadata": {},
   "source": [
    "Intuitively, students with intention to go to higher education would grade higher those who have no intention. This is proven through the below graph. Students with intention for higher education has average final grade around 2.5 points higher than those with no intention. \n",
    "\n",
    "![](../graphs/higheredu_grade.png)"
   ]
  },
  {
   "cell_type": "markdown",
   "metadata": {},
   "source": [
    "# Feature and Model Selection"
   ]
  },
  {
   "cell_type": "markdown",
   "metadata": {},
   "source": [
    "I first split the data into 3 subsets - training, validation and test sets. My plan is to train different models on the training set, and apply the best model on validation set to test set. \n",
    "\n",
    "There are 4 models I use in the feature selection process:\n",
    "- Unregularized linear model\n",
    "- Ridge (L2-regularized) linear model \n",
    "- Lasso (L1-regularized) linear model \n",
    "- Elastic Net (L1 + L2 regularized) linear model\n",
    "\n",
    "Before officially fitting each model to my training set, I use `GridsearchCV` to find best hyperparameters (`alpha` for all models, in addition to `l1 ratio` for Elastic Net). Using the best hyperparameters for each model, I calculate some *scores* (documented in a table below) to compare these models together."
   ]
  },
  {
   "cell_type": "code",
   "execution_count": 4,
   "metadata": {},
   "outputs": [
    {
     "data": {
      "text/html": [
       "<div>\n",
       "<style>\n",
       "    .dataframe thead tr:only-child th {\n",
       "        text-align: right;\n",
       "    }\n",
       "\n",
       "    .dataframe thead th {\n",
       "        text-align: left;\n",
       "    }\n",
       "\n",
       "    .dataframe tbody tr th {\n",
       "        vertical-align: top;\n",
       "    }\n",
       "</style>\n",
       "<table border=\"1\" class=\"dataframe\">\n",
       "  <thead>\n",
       "    <tr style=\"text-align: right;\">\n",
       "      <th></th>\n",
       "      <th>model</th>\n",
       "      <th>rsquared</th>\n",
       "      <th>MSE</th>\n",
       "      <th>AIC</th>\n",
       "    </tr>\n",
       "  </thead>\n",
       "  <tbody>\n",
       "    <tr>\n",
       "      <th>0</th>\n",
       "      <td>Unregularized</td>\n",
       "      <td>0.781</td>\n",
       "      <td>5.572303</td>\n",
       "      <td>-1542.916865</td>\n",
       "    </tr>\n",
       "    <tr>\n",
       "      <th>1</th>\n",
       "      <td>Ridge</td>\n",
       "      <td>0.800</td>\n",
       "      <td>5.066755</td>\n",
       "      <td>-1518.598585</td>\n",
       "    </tr>\n",
       "    <tr>\n",
       "      <th>2</th>\n",
       "      <td>Lasso</td>\n",
       "      <td>0.816</td>\n",
       "      <td>4.666219</td>\n",
       "      <td>-947.992891</td>\n",
       "    </tr>\n",
       "    <tr>\n",
       "      <th>3</th>\n",
       "      <td>Elastic Net</td>\n",
       "      <td>0.818</td>\n",
       "      <td>4.613037</td>\n",
       "      <td>-846.269980</td>\n",
       "    </tr>\n",
       "  </tbody>\n",
       "</table>\n",
       "</div>"
      ],
      "text/plain": [
       "           model  rsquared       MSE          AIC\n",
       "0  Unregularized     0.781  5.572303 -1542.916865\n",
       "1          Ridge     0.800  5.066755 -1518.598585\n",
       "2          Lasso     0.816  4.666219  -947.992891\n",
       "3    Elastic Net     0.818  4.613037  -846.269980"
      ]
     },
     "execution_count": 4,
     "metadata": {},
     "output_type": "execute_result"
    }
   ],
   "source": [
    "import pandas as pd\n",
    "summary = pd.read_csv(\"../data/analysis/model_score.csv\")\n",
    "summary"
   ]
  },
  {
   "cell_type": "markdown",
   "metadata": {},
   "source": [
    "Although unregularized model produces lowest AIC, it has lowest $R^2$ and highest MSE, and doesn't reduce the number of features. This can suggest an overfitting model.\n",
    "\n",
    "Ridge model has the 2nd lowest AIC, slightly higher $R^2$, and lower MSE than unregularized's. However, the problem of Ridge is that it selects all features. Again, sounds like overfitting. \n",
    "\n",
    "Lasso model has low AIC and MSE, as well as higher $R^2$. The problem with L1-regularized model is that result can be diverge. \n",
    "\n",
    "Elastic Net, though has highest AIC among all models, has lowest MSE and highest $R^2$. This model also gives unique result compared to Lasso model. Therefore, **I choose Elastic Net to be my final model**.  "
   ]
  },
  {
   "cell_type": "markdown",
   "metadata": {},
   "source": [
    "# Explanatory Analysis"
   ]
  },
  {
   "cell_type": "markdown",
   "metadata": {},
   "source": [
    "### Results"
   ]
  },
  {
   "cell_type": "markdown",
   "metadata": {},
   "source": [
    "Final model provided by Elastic Net model is:\n",
    "\n",
    "$$Y_{final\\ grade} = -1.9794 - 0.0627X_{age} + 0.0479X_{Medu} -0.0099X_{Mjob} -0.1191X_{failures} + 0.1683X_{famrel} + 0.0563X_{goout} + 0.0181X_{absences} +0.2458X_{G1} + 0.8975X_{G2}$$"
   ]
  },
  {
   "cell_type": "markdown",
   "metadata": {},
   "source": [
    "Fitting this model into my test set, I get:\n",
    "* $R^2 = 0.7686$\n",
    "* $MSE = 4.4979$\n",
    "* $AIC = 691.32$"
   ]
  },
  {
   "cell_type": "markdown",
   "metadata": {},
   "source": [
    "![](../graphs/resid_plot.png)"
   ]
  },
  {
   "cell_type": "markdown",
   "metadata": {},
   "source": [
    "The residual plot looks ok except that there are some outliers. "
   ]
  },
  {
   "cell_type": "markdown",
   "metadata": {},
   "source": [
    "### Conclusions"
   ]
  },
  {
   "cell_type": "markdown",
   "metadata": {},
   "source": [
    "From the model provided by Elastic Net, it suggests that quality of family relationships, as well as grade for first and second period positively affect a lot on the final grade. Age, mother's job and number of past class failures has small negative impact on final grade. Last but not least, mother education, frequency of going out with friends, and number of school absensces has small positive effect on final grade. The case of number of school absences does not make sense to me though. I will do further investigation to understand this. "
   ]
  }
 ],
 "metadata": {
  "kernelspec": {
   "display_name": "Python 3",
   "language": "python",
   "name": "python3"
  },
  "language_info": {
   "codemirror_mode": {
    "name": "ipython",
    "version": 3
   },
   "file_extension": ".py",
   "mimetype": "text/x-python",
   "name": "python",
   "nbconvert_exporter": "python",
   "pygments_lexer": "ipython3",
   "version": "3.6.3"
  }
 },
 "nbformat": 4,
 "nbformat_minor": 2
}
