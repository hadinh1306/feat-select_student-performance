{
 "cells": [
  {
   "cell_type": "code",
   "execution_count": 1,
   "metadata": {
    "collapsed": true
   },
   "outputs": [],
   "source": [
    "import numpy as np\n",
    "import pandas as pd\n",
    "import matplotlib.pyplot as plt\n",
    "from sklearn.linear_model import LinearRegression, Ridge, Lasso, ElasticNet, LogisticRegression\n",
    "from sklearn.metrics import accuracy_score, log_loss\n",
    "from sklearn.model_selection import train_test_split, GridSearchCV\n",
    "%matplotlib inline"
   ]
  },
  {
   "cell_type": "code",
   "execution_count": 2,
   "metadata": {},
   "outputs": [
    {
     "data": {
      "text/html": [
       "<div>\n",
       "<style>\n",
       "    .dataframe thead tr:only-child th {\n",
       "        text-align: right;\n",
       "    }\n",
       "\n",
       "    .dataframe thead th {\n",
       "        text-align: left;\n",
       "    }\n",
       "\n",
       "    .dataframe tbody tr th {\n",
       "        vertical-align: top;\n",
       "    }\n",
       "</style>\n",
       "<table border=\"1\" class=\"dataframe\">\n",
       "  <thead>\n",
       "    <tr style=\"text-align: right;\">\n",
       "      <th></th>\n",
       "      <th>school</th>\n",
       "      <th>sex</th>\n",
       "      <th>age</th>\n",
       "      <th>address</th>\n",
       "      <th>famsize</th>\n",
       "      <th>Pstatus</th>\n",
       "      <th>Medu</th>\n",
       "      <th>Fedu</th>\n",
       "      <th>Mjob</th>\n",
       "      <th>Fjob</th>\n",
       "      <th>...</th>\n",
       "      <th>famrel</th>\n",
       "      <th>freetime</th>\n",
       "      <th>goout</th>\n",
       "      <th>Dalc</th>\n",
       "      <th>Walc</th>\n",
       "      <th>health</th>\n",
       "      <th>absences</th>\n",
       "      <th>G1</th>\n",
       "      <th>G2</th>\n",
       "      <th>G3</th>\n",
       "    </tr>\n",
       "  </thead>\n",
       "  <tbody>\n",
       "    <tr>\n",
       "      <th>0</th>\n",
       "      <td>0</td>\n",
       "      <td>1</td>\n",
       "      <td>18</td>\n",
       "      <td>1</td>\n",
       "      <td>1</td>\n",
       "      <td>0</td>\n",
       "      <td>4</td>\n",
       "      <td>4</td>\n",
       "      <td>4</td>\n",
       "      <td>0</td>\n",
       "      <td>...</td>\n",
       "      <td>4</td>\n",
       "      <td>3</td>\n",
       "      <td>4</td>\n",
       "      <td>1</td>\n",
       "      <td>1</td>\n",
       "      <td>3</td>\n",
       "      <td>6</td>\n",
       "      <td>5</td>\n",
       "      <td>6</td>\n",
       "      <td>6</td>\n",
       "    </tr>\n",
       "    <tr>\n",
       "      <th>1</th>\n",
       "      <td>0</td>\n",
       "      <td>1</td>\n",
       "      <td>17</td>\n",
       "      <td>1</td>\n",
       "      <td>1</td>\n",
       "      <td>1</td>\n",
       "      <td>1</td>\n",
       "      <td>1</td>\n",
       "      <td>4</td>\n",
       "      <td>1</td>\n",
       "      <td>...</td>\n",
       "      <td>5</td>\n",
       "      <td>3</td>\n",
       "      <td>3</td>\n",
       "      <td>1</td>\n",
       "      <td>1</td>\n",
       "      <td>3</td>\n",
       "      <td>4</td>\n",
       "      <td>5</td>\n",
       "      <td>5</td>\n",
       "      <td>6</td>\n",
       "    </tr>\n",
       "    <tr>\n",
       "      <th>2</th>\n",
       "      <td>0</td>\n",
       "      <td>1</td>\n",
       "      <td>15</td>\n",
       "      <td>1</td>\n",
       "      <td>0</td>\n",
       "      <td>1</td>\n",
       "      <td>1</td>\n",
       "      <td>1</td>\n",
       "      <td>4</td>\n",
       "      <td>1</td>\n",
       "      <td>...</td>\n",
       "      <td>4</td>\n",
       "      <td>3</td>\n",
       "      <td>2</td>\n",
       "      <td>2</td>\n",
       "      <td>3</td>\n",
       "      <td>3</td>\n",
       "      <td>10</td>\n",
       "      <td>7</td>\n",
       "      <td>8</td>\n",
       "      <td>10</td>\n",
       "    </tr>\n",
       "    <tr>\n",
       "      <th>3</th>\n",
       "      <td>0</td>\n",
       "      <td>1</td>\n",
       "      <td>15</td>\n",
       "      <td>1</td>\n",
       "      <td>1</td>\n",
       "      <td>1</td>\n",
       "      <td>4</td>\n",
       "      <td>2</td>\n",
       "      <td>3</td>\n",
       "      <td>2</td>\n",
       "      <td>...</td>\n",
       "      <td>3</td>\n",
       "      <td>2</td>\n",
       "      <td>2</td>\n",
       "      <td>1</td>\n",
       "      <td>1</td>\n",
       "      <td>5</td>\n",
       "      <td>2</td>\n",
       "      <td>15</td>\n",
       "      <td>14</td>\n",
       "      <td>15</td>\n",
       "    </tr>\n",
       "    <tr>\n",
       "      <th>4</th>\n",
       "      <td>0</td>\n",
       "      <td>1</td>\n",
       "      <td>16</td>\n",
       "      <td>1</td>\n",
       "      <td>1</td>\n",
       "      <td>1</td>\n",
       "      <td>3</td>\n",
       "      <td>3</td>\n",
       "      <td>1</td>\n",
       "      <td>1</td>\n",
       "      <td>...</td>\n",
       "      <td>4</td>\n",
       "      <td>3</td>\n",
       "      <td>2</td>\n",
       "      <td>1</td>\n",
       "      <td>2</td>\n",
       "      <td>5</td>\n",
       "      <td>4</td>\n",
       "      <td>6</td>\n",
       "      <td>10</td>\n",
       "      <td>10</td>\n",
       "    </tr>\n",
       "  </tbody>\n",
       "</table>\n",
       "<p>5 rows × 33 columns</p>\n",
       "</div>"
      ],
      "text/plain": [
       "   school  sex  age  address  famsize  Pstatus  Medu  Fedu  Mjob  Fjob ...  \\\n",
       "0       0    1   18        1        1        0     4     4     4     0 ...   \n",
       "1       0    1   17        1        1        1     1     1     4     1 ...   \n",
       "2       0    1   15        1        0        1     1     1     4     1 ...   \n",
       "3       0    1   15        1        1        1     4     2     3     2 ...   \n",
       "4       0    1   16        1        1        1     3     3     1     1 ...   \n",
       "\n",
       "   famrel  freetime  goout  Dalc  Walc  health  absences  G1  G2  G3  \n",
       "0       4         3      4     1     1       3         6   5   6   6  \n",
       "1       5         3      3     1     1       3         4   5   5   6  \n",
       "2       4         3      2     2     3       3        10   7   8  10  \n",
       "3       3         2      2     1     1       5         2  15  14  15  \n",
       "4       4         3      2     1     2       5         4   6  10  10  \n",
       "\n",
       "[5 rows x 33 columns]"
      ]
     },
     "execution_count": 2,
     "metadata": {},
     "output_type": "execute_result"
    }
   ],
   "source": [
    "# read in data\n",
    "df = pd.read_csv(\"../data/cleaned_data/cleaned.csv\")\n",
    "df.head()"
   ]
  },
  {
   "cell_type": "code",
   "execution_count": 3,
   "metadata": {},
   "outputs": [],
   "source": [
    "# set up training, validation, and test sets\n",
    "X = df.iloc[:,:32]\n",
    "Y = df.iloc[:,32]"
   ]
  },
  {
   "cell_type": "code",
   "execution_count": 4,
   "metadata": {
    "collapsed": true
   },
   "outputs": [],
   "source": [
    "Xtrain, Xtest, Ytrain, ytest = train_test_split(X, Y, test_size = 0.26, shuffle = True, random_state = 13)"
   ]
  },
  {
   "cell_type": "code",
   "execution_count": 5,
   "metadata": {
    "collapsed": true
   },
   "outputs": [],
   "source": [
    "xtrain, xval, ytrain, yval = train_test_split(Xtrain, Ytrain, test_size = 0.5, shuffle = True, random_state = 13)"
   ]
  },
  {
   "cell_type": "code",
   "execution_count": 6,
   "metadata": {},
   "outputs": [
    {
     "name": "stdout",
     "output_type": "stream",
     "text": [
      "===Performance on training set===\n",
      "Training error: 2.481157998795698\n",
      "R-squared: 0.895\n",
      "\n",
      "===Performance on validation set===\n",
      "Validation error: 5.572302870116987\n",
      "R-squared: 0.781\n"
     ]
    }
   ],
   "source": [
    "# fit unregularized linear regression model\n",
    "lm = LinearRegression()\n",
    "lm.fit(xtrain, ytrain)\n",
    "\n",
    "## create MSE function\n",
    "mean_squared_err = lambda y, yhat: np.mean((y-yhat)**2)\n",
    "\n",
    "print(\"===Performance on training set===\")\n",
    "print(\"Training error:\", mean_squared_err(ytrain, lm.predict(xtrain)))\n",
    "print(\"R-squared:\", round(lm.score(xtrain, ytrain), 3))\n",
    "print()\n",
    "print(\"===Performance on validation set===\")\n",
    "print(\"Validation error:\", mean_squared_err(yval, lm.predict(xval)))\n",
    "print(\"R-squared:\", round(lm.score(xval, yval), 3))"
   ]
  },
  {
   "cell_type": "code",
   "execution_count": 7,
   "metadata": {},
   "outputs": [
    {
     "name": "stdout",
     "output_type": "stream",
     "text": [
      "Best alpha is: {'alpha': 1}\n"
     ]
    }
   ],
   "source": [
    "# fit L-1 regularized (Lasso) linear regression model\n",
    "## apply cross validation to choose best alpha\n",
    "parameters = {'alpha':(1, 2, 3, 4, 5, 6, 7, 8, 9, 10, 15, 20)}\n",
    "l1_lm = Lasso()\n",
    "cv = GridSearchCV(l1_lm, parameters)\n",
    "cv.fit(xtrain, ytrain)\n",
    "print(\"Best alpha is:\", cv.best_params_)"
   ]
  },
  {
   "cell_type": "code",
   "execution_count": 8,
   "metadata": {},
   "outputs": [
    {
     "name": "stdout",
     "output_type": "stream",
     "text": [
      "===Performance on training set===\n",
      "Training error: 3.692358862991513\n",
      "R-squared: 0.844\n",
      "\n",
      "===Performance on validation set===\n",
      "Validation error: 4.666219463984615\n",
      "R-squared: 0.816\n"
     ]
    }
   ],
   "source": [
    "l1_best = Lasso(alpha=1)\n",
    "l1_best.fit(xtrain, ytrain)\n",
    "\n",
    "print(\"===Performance on training set===\")\n",
    "print(\"Training error:\", mean_squared_err(ytrain, l1_best.predict(xtrain)))\n",
    "print(\"R-squared:\", round(l1_best.score(xtrain, ytrain), 3))\n",
    "print()\n",
    "print(\"===Performance on validation set===\")\n",
    "print(\"Validation error:\", mean_squared_err(yval, l1_best.predict(xval)))\n",
    "print(\"R-squared:\", round(l1_best.score(xval, yval), 3))"
   ]
  },
  {
   "cell_type": "code",
   "execution_count": 9,
   "metadata": {},
   "outputs": [
    {
     "name": "stdout",
     "output_type": "stream",
     "text": [
      "Best alpha is: {'alpha': 20}\n"
     ]
    }
   ],
   "source": [
    "# fit L-2 regularized (Ridge) linear regression model\n",
    "## apply cross validation to choose best alpha\n",
    "l2 = Ridge()\n",
    "cv = GridSearchCV(l2, parameters)\n",
    "cv.fit(xtrain, ytrain)\n",
    "print(\"Best alpha is:\", cv.best_params_)"
   ]
  },
  {
   "cell_type": "code",
   "execution_count": 10,
   "metadata": {},
   "outputs": [
    {
     "name": "stdout",
     "output_type": "stream",
     "text": [
      "===Performance on training set===\n",
      "Training error: 2.586508130199553\n",
      "R-squared: 0.891\n",
      "\n",
      "===Performance on validation set===\n",
      "Validation error: 5.066755288157446\n",
      "R-squared: 0.8\n"
     ]
    }
   ],
   "source": [
    "l2_best = Ridge(alpha=20)\n",
    "l2_best.fit(xtrain, ytrain)\n",
    "\n",
    "print(\"===Performance on training set===\")\n",
    "print(\"Training error:\", mean_squared_err(ytrain, l2_best.predict(xtrain)))\n",
    "print(\"R-squared:\", round(l2_best.score(xtrain, ytrain), 3))\n",
    "print()\n",
    "print(\"===Performance on validation set===\")\n",
    "print(\"Validation error:\", mean_squared_err(yval, l2_best.predict(xval)))\n",
    "print(\"R-squared:\", round(l2_best.score(xval, yval), 3))"
   ]
  },
  {
   "cell_type": "code",
   "execution_count": 11,
   "metadata": {},
   "outputs": [
    {
     "name": "stdout",
     "output_type": "stream",
     "text": [
      "Best alpha is: {'alpha': 1}\n"
     ]
    }
   ],
   "source": [
    "# fit L1+L2 regularized (Elastic Net) linear regression model\n",
    "## apply cross validation to choose best alpha\n",
    "elastic = ElasticNet()\n",
    "cv = GridSearchCV(elastic, parameters)\n",
    "cv.fit(xtrain, ytrain)\n",
    "print(\"Best alpha is:\", cv.best_params_)"
   ]
  },
  {
   "cell_type": "code",
   "execution_count": 12,
   "metadata": {},
   "outputs": [
    {
     "name": "stdout",
     "output_type": "stream",
     "text": [
      "===Performance on training set===\n",
      "Training error: 3.6478534830228653\n",
      "R-squared: 0.846\n",
      "\n",
      "===Performance on validation set===\n",
      "Validation error: 4.599921701384237\n",
      "R-squared: 0.819\n"
     ]
    }
   ],
   "source": [
    "l1l2 = ElasticNet(alpha=1)\n",
    "l1l2.fit(xtrain, ytrain)\n",
    "\n",
    "print(\"===Performance on training set===\")\n",
    "print(\"Training error:\", mean_squared_err(ytrain, l1l2.predict(xtrain)))\n",
    "print(\"R-squared:\", round(l1l2.score(xtrain, ytrain), 3))\n",
    "print()\n",
    "print(\"===Performance on validation set===\")\n",
    "print(\"Validation error:\", mean_squared_err(yval, l1l2.predict(xval)))\n",
    "print(\"R-squared:\", round(l1l2.score(xval, yval), 3))"
   ]
  },
  {
   "cell_type": "code",
   "execution_count": 13,
   "metadata": {
    "collapsed": true
   },
   "outputs": [],
   "source": [
    "# find AIC for each model\n",
    "resid_sum_squared = lambda y, yhat: np.sum(y - np.mean(yhat))**2"
   ]
  },
  {
   "cell_type": "code",
   "execution_count": 14,
   "metadata": {},
   "outputs": [],
   "source": [
    "def AIC_val(model):\n",
    "    N = df.shape[0]\n",
    "    RSS = resid_sum_squared(yval, model.predict(xval))\n",
    "    k = model.coef_.nonzero()[0].size\n",
    "    AIC = N*np.log(RSS/N) + 2*k\n",
    "    return AIC"
   ]
  },
  {
   "cell_type": "code",
   "execution_count": 15,
   "metadata": {},
   "outputs": [],
   "source": [
    "models = ['Unregularized', 'Lasso', 'Ridge', 'Elastic Net']\n",
    "rsquared = [round(lm.score(xval, yval), 3), round(l1_best.score(xval, yval), 3), round(l2_best.score(xval, yval), 3), round(l1l2.score(xval, yval), 3)]\n",
    "MSE = [mean_squared_err(yval, lm.predict(xval)),mean_squared_err(yval, l1_best.predict(xval)),mean_squared_err(yval, l2_best.predict(xval)),mean_squared_err(yval, l1l2.predict(xval))]\n",
    "AIC = [AIC_val(lm), AIC_val(l1_best), AIC_val(l2_best), AIC_val(l1l2)]"
   ]
  },
  {
   "cell_type": "code",
   "execution_count": 22,
   "metadata": {},
   "outputs": [
    {
     "data": {
      "text/html": [
       "<div>\n",
       "<style>\n",
       "    .dataframe thead tr:only-child th {\n",
       "        text-align: right;\n",
       "    }\n",
       "\n",
       "    .dataframe thead th {\n",
       "        text-align: left;\n",
       "    }\n",
       "\n",
       "    .dataframe tbody tr th {\n",
       "        vertical-align: top;\n",
       "    }\n",
       "</style>\n",
       "<table border=\"1\" class=\"dataframe\">\n",
       "  <thead>\n",
       "    <tr style=\"text-align: right;\">\n",
       "      <th></th>\n",
       "      <th>model</th>\n",
       "      <th>rsquared</th>\n",
       "      <th>MSE</th>\n",
       "      <th>AIC</th>\n",
       "    </tr>\n",
       "  </thead>\n",
       "  <tbody>\n",
       "    <tr>\n",
       "      <th>0</th>\n",
       "      <td>Unregularized</td>\n",
       "      <td>0.781</td>\n",
       "      <td>5.572303</td>\n",
       "      <td>-1542.916865</td>\n",
       "    </tr>\n",
       "    <tr>\n",
       "      <th>2</th>\n",
       "      <td>Ridge</td>\n",
       "      <td>0.800</td>\n",
       "      <td>5.066755</td>\n",
       "      <td>-1518.598585</td>\n",
       "    </tr>\n",
       "    <tr>\n",
       "      <th>3</th>\n",
       "      <td>Elastic Net</td>\n",
       "      <td>0.819</td>\n",
       "      <td>4.599922</td>\n",
       "      <td>-1160.068429</td>\n",
       "    </tr>\n",
       "    <tr>\n",
       "      <th>1</th>\n",
       "      <td>Lasso</td>\n",
       "      <td>0.816</td>\n",
       "      <td>4.666219</td>\n",
       "      <td>-947.992891</td>\n",
       "    </tr>\n",
       "  </tbody>\n",
       "</table>\n",
       "</div>"
      ],
      "text/plain": [
       "           model  rsquared       MSE          AIC\n",
       "0  Unregularized     0.781  5.572303 -1542.916865\n",
       "2          Ridge     0.800  5.066755 -1518.598585\n",
       "3    Elastic Net     0.819  4.599922 -1160.068429\n",
       "1          Lasso     0.816  4.666219  -947.992891"
      ]
     },
     "execution_count": 22,
     "metadata": {},
     "output_type": "execute_result"
    }
   ],
   "source": [
    "# create summary table for models applied on validation set\n",
    "d = {\"model\": models, \"rsquared\" : rsquared, \"MSE\": MSE, \"AIC\" : AIC}\n",
    "pd.DataFrame(d, columns=[\"model\", \"rsquared\", \"MSE\", \"AIC\"]).sort_values(['AIC'])"
   ]
  },
  {
   "cell_type": "code",
   "execution_count": null,
   "metadata": {
    "collapsed": true
   },
   "outputs": [],
   "source": []
  }
 ],
 "metadata": {
  "kernelspec": {
   "display_name": "Python 3",
   "language": "python",
   "name": "python3"
  },
  "language_info": {
   "codemirror_mode": {
    "name": "ipython",
    "version": 3
   },
   "file_extension": ".py",
   "mimetype": "text/x-python",
   "name": "python",
   "nbconvert_exporter": "python",
   "pygments_lexer": "ipython3",
   "version": "3.6.3"
  }
 },
 "nbformat": 4,
 "nbformat_minor": 2
}
