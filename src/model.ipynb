{
 "cells": [
  {
   "cell_type": "code",
   "execution_count": 1,
   "metadata": {
    "collapsed": true
   },
   "outputs": [],
   "source": [
    "import numpy as np\n",
    "import pandas as pd\n",
    "import matplotlib.pyplot as plt\n",
    "from sklearn.linear_model import LinearRegression, Ridge, Lasso, ElasticNet, LogisticRegression\n",
    "from sklearn.metrics import accuracy_score, log_loss\n",
    "from sklearn.model_selection import train_test_split, GridSearchCV\n",
    "%matplotlib inline"
   ]
  },
  {
   "cell_type": "code",
   "execution_count": 23,
   "metadata": {},
   "outputs": [
    {
     "data": {
      "text/html": [
       "<div>\n",
       "<style>\n",
       "    .dataframe thead tr:only-child th {\n",
       "        text-align: right;\n",
       "    }\n",
       "\n",
       "    .dataframe thead th {\n",
       "        text-align: left;\n",
       "    }\n",
       "\n",
       "    .dataframe tbody tr th {\n",
       "        vertical-align: top;\n",
       "    }\n",
       "</style>\n",
       "<table border=\"1\" class=\"dataframe\">\n",
       "  <thead>\n",
       "    <tr style=\"text-align: right;\">\n",
       "      <th></th>\n",
       "      <th>school</th>\n",
       "      <th>sex</th>\n",
       "      <th>age</th>\n",
       "      <th>address</th>\n",
       "      <th>famsize</th>\n",
       "      <th>Pstatus</th>\n",
       "      <th>Medu</th>\n",
       "      <th>Fedu</th>\n",
       "      <th>Mjob</th>\n",
       "      <th>Fjob</th>\n",
       "      <th>...</th>\n",
       "      <th>famrel</th>\n",
       "      <th>freetime</th>\n",
       "      <th>goout</th>\n",
       "      <th>Dalc</th>\n",
       "      <th>Walc</th>\n",
       "      <th>health</th>\n",
       "      <th>absences</th>\n",
       "      <th>G1</th>\n",
       "      <th>G2</th>\n",
       "      <th>G3</th>\n",
       "    </tr>\n",
       "  </thead>\n",
       "  <tbody>\n",
       "    <tr>\n",
       "      <th>0</th>\n",
       "      <td>0</td>\n",
       "      <td>1</td>\n",
       "      <td>18</td>\n",
       "      <td>1</td>\n",
       "      <td>1</td>\n",
       "      <td>0</td>\n",
       "      <td>4</td>\n",
       "      <td>4</td>\n",
       "      <td>4</td>\n",
       "      <td>0</td>\n",
       "      <td>...</td>\n",
       "      <td>4</td>\n",
       "      <td>3</td>\n",
       "      <td>4</td>\n",
       "      <td>1</td>\n",
       "      <td>1</td>\n",
       "      <td>3</td>\n",
       "      <td>6</td>\n",
       "      <td>5</td>\n",
       "      <td>6</td>\n",
       "      <td>6</td>\n",
       "    </tr>\n",
       "    <tr>\n",
       "      <th>1</th>\n",
       "      <td>0</td>\n",
       "      <td>1</td>\n",
       "      <td>17</td>\n",
       "      <td>1</td>\n",
       "      <td>1</td>\n",
       "      <td>1</td>\n",
       "      <td>1</td>\n",
       "      <td>1</td>\n",
       "      <td>4</td>\n",
       "      <td>1</td>\n",
       "      <td>...</td>\n",
       "      <td>5</td>\n",
       "      <td>3</td>\n",
       "      <td>3</td>\n",
       "      <td>1</td>\n",
       "      <td>1</td>\n",
       "      <td>3</td>\n",
       "      <td>4</td>\n",
       "      <td>5</td>\n",
       "      <td>5</td>\n",
       "      <td>6</td>\n",
       "    </tr>\n",
       "    <tr>\n",
       "      <th>2</th>\n",
       "      <td>0</td>\n",
       "      <td>1</td>\n",
       "      <td>15</td>\n",
       "      <td>1</td>\n",
       "      <td>0</td>\n",
       "      <td>1</td>\n",
       "      <td>1</td>\n",
       "      <td>1</td>\n",
       "      <td>4</td>\n",
       "      <td>1</td>\n",
       "      <td>...</td>\n",
       "      <td>4</td>\n",
       "      <td>3</td>\n",
       "      <td>2</td>\n",
       "      <td>2</td>\n",
       "      <td>3</td>\n",
       "      <td>3</td>\n",
       "      <td>10</td>\n",
       "      <td>7</td>\n",
       "      <td>8</td>\n",
       "      <td>10</td>\n",
       "    </tr>\n",
       "    <tr>\n",
       "      <th>3</th>\n",
       "      <td>0</td>\n",
       "      <td>1</td>\n",
       "      <td>15</td>\n",
       "      <td>1</td>\n",
       "      <td>1</td>\n",
       "      <td>1</td>\n",
       "      <td>4</td>\n",
       "      <td>2</td>\n",
       "      <td>3</td>\n",
       "      <td>2</td>\n",
       "      <td>...</td>\n",
       "      <td>3</td>\n",
       "      <td>2</td>\n",
       "      <td>2</td>\n",
       "      <td>1</td>\n",
       "      <td>1</td>\n",
       "      <td>5</td>\n",
       "      <td>2</td>\n",
       "      <td>15</td>\n",
       "      <td>14</td>\n",
       "      <td>15</td>\n",
       "    </tr>\n",
       "    <tr>\n",
       "      <th>4</th>\n",
       "      <td>0</td>\n",
       "      <td>1</td>\n",
       "      <td>16</td>\n",
       "      <td>1</td>\n",
       "      <td>1</td>\n",
       "      <td>1</td>\n",
       "      <td>3</td>\n",
       "      <td>3</td>\n",
       "      <td>1</td>\n",
       "      <td>1</td>\n",
       "      <td>...</td>\n",
       "      <td>4</td>\n",
       "      <td>3</td>\n",
       "      <td>2</td>\n",
       "      <td>1</td>\n",
       "      <td>2</td>\n",
       "      <td>5</td>\n",
       "      <td>4</td>\n",
       "      <td>6</td>\n",
       "      <td>10</td>\n",
       "      <td>10</td>\n",
       "    </tr>\n",
       "  </tbody>\n",
       "</table>\n",
       "<p>5 rows × 33 columns</p>\n",
       "</div>"
      ],
      "text/plain": [
       "   school  sex  age  address  famsize  Pstatus  Medu  Fedu  Mjob  Fjob ...  \\\n",
       "0       0    1   18        1        1        0     4     4     4     0 ...   \n",
       "1       0    1   17        1        1        1     1     1     4     1 ...   \n",
       "2       0    1   15        1        0        1     1     1     4     1 ...   \n",
       "3       0    1   15        1        1        1     4     2     3     2 ...   \n",
       "4       0    1   16        1        1        1     3     3     1     1 ...   \n",
       "\n",
       "   famrel  freetime  goout  Dalc  Walc  health  absences  G1  G2  G3  \n",
       "0       4         3      4     1     1       3         6   5   6   6  \n",
       "1       5         3      3     1     1       3         4   5   5   6  \n",
       "2       4         3      2     2     3       3        10   7   8  10  \n",
       "3       3         2      2     1     1       5         2  15  14  15  \n",
       "4       4         3      2     1     2       5         4   6  10  10  \n",
       "\n",
       "[5 rows x 33 columns]"
      ]
     },
     "execution_count": 23,
     "metadata": {},
     "output_type": "execute_result"
    }
   ],
   "source": [
    "# read in data\n",
    "df = pd.read_csv(\"../data/cleaned_data/cleaned.csv\")\n",
    "df.head()"
   ]
  },
  {
   "cell_type": "code",
   "execution_count": 24,
   "metadata": {},
   "outputs": [],
   "source": [
    "# set up training, validation, and test sets\n",
    "X = df.iloc[:,:32]\n",
    "Y = df.iloc[:,32]"
   ]
  },
  {
   "cell_type": "code",
   "execution_count": 25,
   "metadata": {
    "collapsed": true
   },
   "outputs": [],
   "source": [
    "Xtrain, Xtest, Ytrain, ytest = train_test_split(X, Y, test_size = 0.26, shuffle = True, random_state = 13)"
   ]
  },
  {
   "cell_type": "code",
   "execution_count": 26,
   "metadata": {
    "collapsed": true
   },
   "outputs": [],
   "source": [
    "xtrain, xval, ytrain, yval = train_test_split(Xtrain, Ytrain, test_size = 0.5, shuffle = True, random_state = 13)"
   ]
  },
  {
   "cell_type": "code",
   "execution_count": 41,
   "metadata": {},
   "outputs": [
    {
     "name": "stdout",
     "output_type": "stream",
     "text": [
      "===Performance on training set===\n",
      "Training error: 2.481157998795698\n",
      "R-squared: 0.895\n",
      "\n",
      "===Performance on validation set===\n",
      "Validation error: 5.572302870116987\n",
      "R-squared: 0.781\n"
     ]
    }
   ],
   "source": [
    "# fit unregularized linear regression model\n",
    "lm = LinearRegression()\n",
    "lm.fit(xtrain, ytrain)\n",
    "\n",
    "## create MSE function\n",
    "mean_squared_err = lambda y, yhat: np.mean((y-yhat)**2)\n",
    "\n",
    "print(\"===Performance on training set===\")\n",
    "print(\"Training error:\", mean_squared_err(ytrain, lm.predict(xtrain)))\n",
    "print(\"R-squared:\", round(lm.score(xtrain, ytrain), 3))\n",
    "print()\n",
    "print(\"===Performance on validation set===\")\n",
    "print(\"Validation error:\", mean_squared_err(yval, lm.predict(xval)))\n",
    "print(\"R-squared:\", round(lm.score(xval, yval), 3))"
   ]
  },
  {
   "cell_type": "code",
   "execution_count": 34,
   "metadata": {},
   "outputs": [
    {
     "name": "stdout",
     "output_type": "stream",
     "text": [
      "Best alpha is: {'alpha': 1}\n"
     ]
    }
   ],
   "source": [
    "# fit L-1 regularized (Lasso) linear regression model\n",
    "## apply cross validation to choose best alpha\n",
    "parameters = {'alpha':(1, 2, 3, 4, 5, 6, 7, 8, 9, 10, 15, 20)}\n",
    "l1_lm = Lasso()\n",
    "cv = GridSearchCV(l1_lm, parameters)\n",
    "cv.fit(xtrain, ytrain)\n",
    "print(\"Best alpha is:\", cv.best_params_)"
   ]
  },
  {
   "cell_type": "code",
   "execution_count": 40,
   "metadata": {},
   "outputs": [
    {
     "name": "stdout",
     "output_type": "stream",
     "text": [
      "===Performance on training set===\n",
      "Training error: 3.692358862991513\n",
      "R-squared: 0.844\n",
      "\n",
      "===Performance on validation set===\n",
      "Validation error: 4.666219463984615\n",
      "R-squared: 0.816\n"
     ]
    }
   ],
   "source": [
    "l1_best = Lasso(alpha=1)\n",
    "l1_best.fit(xtrain, ytrain)\n",
    "\n",
    "print(\"===Performance on training set===\")\n",
    "print(\"Training error:\", mean_squared_err(ytrain, l1_best.predict(xtrain)))\n",
    "print(\"R-squared:\", round(l1_best.score(xtrain, ytrain), 3))\n",
    "print()\n",
    "print(\"===Performance on validation set===\")\n",
    "print(\"Validation error:\", mean_squared_err(yval, l1_best.predict(xval)))\n",
    "print(\"R-squared:\", round(l1_best.score(xval, yval), 3))"
   ]
  },
  {
   "cell_type": "code",
   "execution_count": 42,
   "metadata": {},
   "outputs": [
    {
     "name": "stdout",
     "output_type": "stream",
     "text": [
      "Best alpha is: {'alpha': 20}\n"
     ]
    }
   ],
   "source": [
    "# fit L-2 regularized (Ridge) linear regression model\n",
    "## apply cross validation to choose best alpha\n",
    "l2 = Ridge()\n",
    "cv = GridSearchCV(l2, parameters)\n",
    "cv.fit(xtrain, ytrain)\n",
    "print(\"Best alpha is:\", cv.best_params_)"
   ]
  },
  {
   "cell_type": "code",
   "execution_count": 43,
   "metadata": {},
   "outputs": [
    {
     "name": "stdout",
     "output_type": "stream",
     "text": [
      "===Performance on training set===\n",
      "Training error: 2.586508130199553\n",
      "R-squared: 0.891\n",
      "\n",
      "===Performance on validation set===\n",
      "Validation error: 5.066755288157446\n",
      "R-squared: 0.8\n"
     ]
    }
   ],
   "source": [
    "l2_best = Ridge(alpha=20)\n",
    "l2_best.fit(xtrain, ytrain)\n",
    "\n",
    "print(\"===Performance on training set===\")\n",
    "print(\"Training error:\", mean_squared_err(ytrain, l2_best.predict(xtrain)))\n",
    "print(\"R-squared:\", round(l2_best.score(xtrain, ytrain), 3))\n",
    "print()\n",
    "print(\"===Performance on validation set===\")\n",
    "print(\"Validation error:\", mean_squared_err(yval, l2_best.predict(xval)))\n",
    "print(\"R-squared:\", round(l2_best.score(xval, yval), 3))"
   ]
  },
  {
   "cell_type": "code",
   "execution_count": null,
   "metadata": {
    "collapsed": true
   },
   "outputs": [],
   "source": []
  }
 ],
 "metadata": {
  "kernelspec": {
   "display_name": "Python 3",
   "language": "python",
   "name": "python3"
  },
  "language_info": {
   "codemirror_mode": {
    "name": "ipython",
    "version": 3
   },
   "file_extension": ".py",
   "mimetype": "text/x-python",
   "name": "python",
   "nbconvert_exporter": "python",
   "pygments_lexer": "ipython3",
   "version": "3.6.3"
  }
 },
 "nbformat": 4,
 "nbformat_minor": 2
}
