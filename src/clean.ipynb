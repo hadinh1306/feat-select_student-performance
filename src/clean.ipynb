{
 "cells": [
  {
   "cell_type": "code",
   "execution_count": 1,
   "metadata": {
    "collapsed": true
   },
   "outputs": [],
   "source": [
    "import pandas as pd\n",
    "import numpy as np"
   ]
  },
  {
   "cell_type": "code",
   "execution_count": 2,
   "metadata": {
    "collapsed": true
   },
   "outputs": [],
   "source": [
    "# read in data \n",
    "student_mat = pd.read_csv(\"../data/raw_data/student/student-mat.csv\", sep = \";\", header=0)\n",
    "student_por = pd.read_csv(\"../data/raw_data/student/student-por.csv\", sep = \";\", header=0)"
   ]
  },
  {
   "cell_type": "code",
   "execution_count": 3,
   "metadata": {
    "collapsed": true
   },
   "outputs": [],
   "source": [
    "# merge data\n",
    "student_merge = pd.merge(student_mat, student_por, on = [\"school\",\"sex\",\"age\",\"address\",\"famsize\",\"Pstatus\",\"Medu\",\"Fedu\",\"Mjob\",\"Fjob\",\"reason\",\"nursery\",\"internet\"])\n",
    "\n",
    "# print out merged data\n",
    "student_merge.head(10)\n",
    "\n",
    "# check type of columns\n",
    "student_merge.dtypes\n",
    "\n",
    "# subset data to exclude duplicated columns\n",
    "student_df = student_merge.iloc[:,0:33]\n",
    "\n",
    "# change column name\n",
    "student_df.columns = ['school', 'sex', 'age', 'address', 'famsize', 'Pstatus', 'Medu', 'Fedu', 'Mjob', 'Fjob', 'reason', 'guardian', 'traveltime', 'studytime', 'failures', 'schoolsup', 'famsup', 'paid', 'activities', 'nursery', 'higher', 'internet', 'romantic', 'famrel', 'freetime', 'goout', 'Dalc', 'Walc', 'health', 'absences', 'G1', 'G2', 'G3']"
   ]
  },
  {
   "cell_type": "code",
   "execution_count": 4,
   "metadata": {},
   "outputs": [],
   "source": [
    "# clean data -- transform text to numeric data to pass to scikit-learn\n",
    "\n",
    "### Fjob\n",
    "job = {'teacher': 0, 'other': 1, 'services': 2, 'health': 3, 'at_home': 4}\n",
    "student_df['Fjob'].replace(job, inplace = True)\n",
    "\n",
    "### Mjob\n",
    "student_df['Mjob'].replace(job, inplace = True)\n",
    "\n",
    "### school\n",
    "school = {'GP': 0, 'MS': 1}\n",
    "student_df['school'].replace(school, inplace = True)\n",
    "\n",
    "### sex \n",
    "sex = {'M': 0, 'F': 1}\n",
    "student_df['sex'].replace(sex, inplace = True)\n",
    "\n",
    "### address\n",
    "address = {'R': 0, 'U': 1}\n",
    "student_df['address'].replace(address, inplace = True)\n",
    "\n",
    "### famsize\n",
    "famsize = {'LE3': 0, 'GT3': 1}\n",
    "student_df['famsize'].replace(famsize, inplace = True)\n",
    "\n",
    "### Pstatus\n",
    "Pstatus = {'A': 0, 'T': 1}\n",
    "student_df['Pstatus'].replace(Pstatus, inplace = True)\n",
    "\n",
    "### guardian\n",
    "guardian = {'father': 0, 'mother': 1, 'other': 2}\n",
    "student_df['guardian'].replace(guardian, inplace = True)\n",
    "\n",
    "### reason\n",
    "reason = {'course': 0, 'other': 1, 'home': 2, 'reputation': 3}\n",
    "student_df['reason'].replace(reason, inplace = True)\n",
    "\n",
    "### schoolsup\n",
    "schoolsup = {'no': 0, 'yes': 1}\n",
    "student_df['schoolsup'].replace(schoolsup, inplace = True)\n",
    "\n",
    "### famsup\n",
    "famsup = {'no': 0, 'yes': 1}\n",
    "student_df['famsup'].replace(famsup, inplace = True)\n",
    "\n",
    "### paid\n",
    "paid = {'no': 0, 'yes': 1}\n",
    "student_df['paid'].replace(paid, inplace = True)\n",
    "\n",
    "### activities\n",
    "activities = {'no': 0, 'yes': 1}\n",
    "student_df['activities'].replace(activities, inplace = True)\n",
    "\n",
    "### nursery\n",
    "nursery = {'no': 0, 'yes': 1}\n",
    "student_df['nursery'].replace(nursery, inplace = True)\n",
    "\n",
    "### higher\n",
    "higher = {'no': 0, 'yes': 1}\n",
    "student_df['higher'].replace(higher, inplace = True)\n",
    "\n",
    "### internet\n",
    "internet = {'no': 0, 'yes': 1}\n",
    "student_df['internet'].replace(internet, inplace = True)\n",
    "\n",
    "### romantic\n",
    "romantic = {'no': 0, 'yes': 1}\n",
    "student_df['romantic'].replace(romantic, inplace = True)"
   ]
  },
  {
   "cell_type": "code",
   "execution_count": 5,
   "metadata": {
    "collapsed": true
   },
   "outputs": [],
   "source": [
    "# output cleaned data\n",
    "student_df.to_csv(\"../data/cleaned_data/cleaned.csv\", index = False)"
   ]
  }
 ],
 "metadata": {
  "kernelspec": {
   "display_name": "Python 3",
   "language": "python",
   "name": "python3"
  },
  "language_info": {
   "codemirror_mode": {
    "name": "ipython",
    "version": 3
   },
   "file_extension": ".py",
   "mimetype": "text/x-python",
   "name": "python",
   "nbconvert_exporter": "python",
   "pygments_lexer": "ipython3",
   "version": "3.6.3"
  }
 },
 "nbformat": 4,
 "nbformat_minor": 2
}
